{
 "cells": [
  {
   "cell_type": "code",
   "execution_count": 27,
   "metadata": {},
   "outputs": [],
   "source": [
    "sdw2023_api_url = 'https://sdw-2023-prd.up.railway.app'"
   ]
  },
  {
   "cell_type": "code",
   "execution_count": null,
   "metadata": {},
   "outputs": [],
   "source": [
    "import pandas as pd\n",
    "\n",
    "df = pd.read_csv(\"SDW2023.csv\")\n",
    "user_ids = df['UserID'].tolist()\n",
    "print(user_ids)"
   ]
  },
  {
   "cell_type": "code",
   "execution_count": null,
   "metadata": {},
   "outputs": [],
   "source": [
    "import requests\n",
    "import json\n",
    "\n",
    "def get_user(id):\n",
    "    response = requests.get(f'{sdw2023_api_url}/users/{id}')\n",
    "    return response.json() if response.status_code == 200 else None\n",
    "\n",
    "users = [user for id in user_ids if (user := get_user(id)) is not None]\n",
    "print(json.dumps(users, indent=2))"
   ]
  },
  {
   "cell_type": "code",
   "execution_count": 30,
   "metadata": {},
   "outputs": [],
   "source": [
    "# Documentação Oficial da API OpenAI: https://platform.openai.com/docs/api-reference/introduction\n",
    "# Informações sobre o Período Gratuito: https://help.openai.com/en/articles/4936830\n",
    "\n",
    "# Para gerar uma API Key:\n",
    "# 1. Crie uma conta na OpenAI\n",
    "# 2. Acesse a seção \"API Keys\"\n",
    "# 3. Clique em \"Create API Key\"\n",
    "# Link direto: https://platform.openai.com/account/api-keys\n",
    "\n",
    "# Substitua o texto TODO por sua API Key da OpenAI, ela será salva como uma variável de ambiente.\n",
    "openai_api_key = 'TODO'"
   ]
  },
  {
   "cell_type": "code",
   "execution_count": null,
   "metadata": {},
   "outputs": [],
   "source": [
    "import openai\n",
    "\n",
    "openai.api_key = openai_api_key\n",
    "\n",
    "def generate_ai_news(user):\n",
    "  completion = openai.ChatCompletion.create(\n",
    "    model=\"gpt-3.5-turbo\",\n",
    "    messages=[\n",
    "      {\n",
    "          \"role\": \"system\",\n",
    "          \"content\": \"Você é um especialista em markting bancário.\"\n",
    "      },\n",
    "      {\n",
    "          \"role\": \"user\",\n",
    "          \"content\": f\"Crie uma mensagem lembrando {user['name']} sobre a importância de quitar as dividas, sempre citando os nomes. (máximo de 100 caracteres)\"\n",
    "      }\n",
    "    ]\n",
    "  )\n",
    "  return completion.choices[0].message.content.strip('\\\"')\n",
    "\n",
    "for user in users:\n",
    "  news = generate_ai_news(user)\n",
    "  print(news)\n",
    "  user['news'].append({\n",
    "      \"icon\": \"https://digitalinnovationone.github.io/santander-dev-week-2023-api/icons/credit.svg\",\n",
    "      \"description\": news\n",
    "  })\n",
    "     "
   ]
  },
  {
   "cell_type": "code",
   "execution_count": null,
   "metadata": {},
   "outputs": [],
   "source": [
    "def update_user(user):\n",
    "    response = requests.put(f\"{sdw2023_api_url}/users/{user['id']}\", json=user)\n",
    "    return True if response.status_code == 200 else False\n",
    "\n",
    "for user in users:\n",
    "    success = update_user(user)\n",
    "    print(f\"User {user['name']} updated? {success}!\")"
   ]
  }
 ],
 "metadata": {
  "kernelspec": {
   "display_name": "Python 3",
   "language": "python",
   "name": "python3"
  },
  "language_info": {
   "codemirror_mode": {
    "name": "ipython",
    "version": 3
   },
   "file_extension": ".py",
   "mimetype": "text/x-python",
   "name": "python",
   "nbconvert_exporter": "python",
   "pygments_lexer": "ipython3",
   "version": "3.11.5"
  },
  "orig_nbformat": 4
 },
 "nbformat": 4,
 "nbformat_minor": 2
}
